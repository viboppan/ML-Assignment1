{
 "cells": [
  {
   "cell_type": "code",
   "execution_count": 22,
   "id": "15cc28bb",
   "metadata": {},
   "outputs": [
    {
     "name": "stdout",
     "output_type": "stream",
     "text": [
      "[15  5  6  3 13 19  9 13 14  3 17  2 19  2  1]\n"
     ]
    }
   ],
   "source": [
    "#1.Numpy\n",
    "#a. Create a random vector of size 15 with integers in the range 1-20\n",
    "import numpy as np\n",
    "import random\n",
    "rand_vector = np.random.randint(low=1, high=21, size=15)\n",
    "print(rand_vector)"
   ]
  },
  {
   "cell_type": "code",
   "execution_count": 23,
   "id": "80843ff5",
   "metadata": {},
   "outputs": [
    {
     "name": "stdout",
     "output_type": "stream",
     "text": [
      "\n",
      "Reshaped Array:\n",
      "[[15  5  6  3 13]\n",
      " [19  9 13 14  3]\n",
      " [17  2 19  2  1]]\n"
     ]
    }
   ],
   "source": [
    "#1. Reshape the vector to a 3 by 5 array\n",
    "reshaped_array = rand_vector.reshape(3, 5)\n",
    "print(\"\\nReshaped Array:\")\n",
    "print(reshaped_array)"
   ]
  },
  {
   "cell_type": "code",
   "execution_count": 24,
   "id": "ce572603",
   "metadata": {},
   "outputs": [
    {
     "name": "stdout",
     "output_type": "stream",
     "text": [
      "\n",
      "Array Shape:\n",
      "(3, 5)\n"
     ]
    }
   ],
   "source": [
    "#2. Print array shape\n",
    "print(\"\\nArray Shape:\")\n",
    "print(reshaped_array.shape)"
   ]
  },
  {
   "cell_type": "code",
   "execution_count": 25,
   "id": "54d15420",
   "metadata": {
    "scrolled": true
   },
   "outputs": [
    {
     "name": "stdout",
     "output_type": "stream",
     "text": [
      "[0 0 2]\n",
      "updated Array:\n",
      " [[ 0  5  6  3 13]\n",
      " [ 0  9 13 14  3]\n",
      " [17  2  0  2  1]]\n"
     ]
    }
   ],
   "source": [
    "# Question 3: Replace the max in each row by 0\n",
    "max_values_indices = np.argmax(reshaped_array, axis=1)\n",
    "print(max_values_indices)\n",
    "i = 0\n",
    "# Iterating over the max_values_indices\n",
    "for j in max_values_indices:\n",
    "    reshaped_array[i][j] = 0\n",
    "    i += 1\n",
    "    \n",
    "print(\"updated Array:\\n\", reshaped_array)"
   ]
  },
  {
   "cell_type": "code",
   "execution_count": null,
   "id": "b1e19b1e",
   "metadata": {},
   "outputs": [],
   "source": [
    "#Create a 2-dimensional array of size 4 x 3 (composed of 4-byte integer elements), also print the shape, type and data type of the array."
   ]
  },
  {
   "cell_type": "code",
   "execution_count": 26,
   "id": "25ce0b06",
   "metadata": {},
   "outputs": [
    {
     "name": "stdout",
     "output_type": "stream",
     "text": [
      "Shape: (4, 3)\n",
      "Type: <class 'numpy.ndarray'>\n",
      "Data type: int32\n"
     ]
    }
   ],
   "source": [
    "# Creating a 2-d array of size 4x3\n",
    "secondaArray = np.array(np.random.randint(1, 21, size=(4, 3)), np.int32)\n",
    "\n",
    "# printing array shape\n",
    "print(\"Shape:\", secondaArray.shape)\n",
    "\n",
    "# print array type\n",
    "print(\"Type:\", type(secondaArray))\n",
    "\n",
    "#print array data type\n",
    "print(\"Data type:\", secondaArray.dtype)"
   ]
  },
  {
   "cell_type": "code",
   "execution_count": 29,
   "id": "81aa09d4",
   "metadata": {},
   "outputs": [],
   "source": [
    "#b. Write a program to compute the eigenvalues and right eigenvectors of a given square array given below:\n",
    "#[[ 3 -2] [ 1 0]]"
   ]
  },
  {
   "cell_type": "code",
   "execution_count": 30,
   "id": "c4ac5ddb",
   "metadata": {},
   "outputs": [
    {
     "name": "stdout",
     "output_type": "stream",
     "text": [
      "Eigenvalues: \n",
      " [2. 1.]\n",
      "\n",
      "Right Eigenvectors: \n",
      " [[0.89442719 0.70710678]\n",
      " [0.4472136  0.70710678]]\n"
     ]
    }
   ],
   "source": [
    "# Defining the given array\n",
    "thirdArray = np.array([[3, -2], [1, 0]])\n",
    "\n",
    "# computing the eigenvalues and right eigenvectors\n",
    "eigenvalues, eigenvectors = np.linalg.eig(thirdArray)\n",
    "\n",
    "# print eigenvalues\n",
    "print(\"Eigenvalues: \\n\", eigenvalues)\n",
    "\n",
    "# print right eigenvectors\n",
    "print(\"\\nRight Eigenvectors: \\n\", eigenvectors)"
   ]
  },
  {
   "cell_type": "code",
   "execution_count": null,
   "id": "40b0191f",
   "metadata": {},
   "outputs": [],
   "source": [
    "#c. Compute the sum of the diagonal element of a given array.\n",
    "#[[0 1 2] [3 4 5]]"
   ]
  },
  {
   "cell_type": "code",
   "execution_count": 31,
   "id": "46bb387a",
   "metadata": {},
   "outputs": [
    {
     "data": {
      "text/plain": [
       "4"
      ]
     },
     "execution_count": 31,
     "metadata": {},
     "output_type": "execute_result"
    }
   ],
   "source": [
    "# Defining the given array\n",
    "fourthArray = np.array([[0, 1, 2], [3, 4, 5]])\n",
    "\n",
    "# computing the sum of the diagonal elements\n",
    "sum_diagonal = np.trace(fourthArray)\n",
    "\n",
    "# Print the sum of the diagonal elements\n",
    "sum_diagonal"
   ]
  },
  {
   "cell_type": "code",
   "execution_count": 33,
   "id": "11531137",
   "metadata": {},
   "outputs": [],
   "source": [
    "#d. Write a NumPy program to create a new shape to an array without changing its data.\n",
    "#Reshape 3x2: [[1 2] [3 4] [5 6]]"
   ]
  },
  {
   "cell_type": "code",
   "execution_count": 34,
   "id": "a007300a",
   "metadata": {},
   "outputs": [
    {
     "data": {
      "text/plain": [
       "array([[1, 2, 3],\n",
       "       [4, 5, 6]])"
      ]
     },
     "execution_count": 34,
     "metadata": {},
     "output_type": "execute_result"
    }
   ],
   "source": [
    "#Defining the given array\n",
    "array5 = np.array([[1, 2], [3, 4], [5, 6]])\n",
    "\n",
    "# Reshaping the array to 2x3\n",
    "new_arr1 = array5.reshape(2,3)\n",
    "\n",
    "# print the new array\n",
    "new_arr1"
   ]
  },
  {
   "cell_type": "code",
   "execution_count": 35,
   "id": "b0d04fe3",
   "metadata": {},
   "outputs": [],
   "source": [
    "#Reshape 2x3: [[1 2 3] [4 5 6]]"
   ]
  },
  {
   "cell_type": "code",
   "execution_count": 36,
   "id": "d3979700",
   "metadata": {},
   "outputs": [
    {
     "data": {
      "text/plain": [
       "array([[1, 2],\n",
       "       [3, 4],\n",
       "       [5, 6]])"
      ]
     },
     "execution_count": 36,
     "metadata": {},
     "output_type": "execute_result"
    }
   ],
   "source": [
    "#Defining the given array\n",
    "array6 = np.array([[1, 2, 3], [4, 5, 6]])\n",
    "\n",
    "# Reshaping the array to 3x2\n",
    "new_arr = array6.reshape(3,2)\n",
    "\n",
    "# printing the new array\n",
    "new_arr"
   ]
  },
  {
   "cell_type": "code",
   "execution_count": 37,
   "id": "1a908e4a",
   "metadata": {},
   "outputs": [],
   "source": [
    "#2. Matplotlib"
   ]
  },
  {
   "cell_type": "code",
   "execution_count": null,
   "id": "59afefe4",
   "metadata": {},
   "outputs": [],
   "source": [
    "Write a Python programming to create a below chart of the popularity of programming Languages.\n",
    "#Sample data:\n",
    "#Programming languages: Java, Python, PHP, JavaScript, C#, C++ Popularity: 22.2, 17.6, 8.8, 8, 7.7, 6.7"
   ]
  },
  {
   "cell_type": "code",
   "execution_count": 38,
   "id": "f708ced9",
   "metadata": {},
   "outputs": [
    {
     "data": {
      "image/png": "[encoded data removed]",
      "text/plain": [
       "<Figure size 640x480 with 1 Axes>"
      ]
     },
     "metadata": {},
     "output_type": "display_data"
    }
   ],
   "source": [
    "import matplotlib.pyplot as plt\n",
    "\n",
    "# Sample data to plot\n",
    "languages = ['Java', 'Python', 'PHP', 'JavaScript', 'C#', 'C++']\n",
    "popularity = [22.2, 17.6, 8.8, 8, 7.7, 6.7]\n",
    "\n",
    "# Exploding the first slice\n",
    "y = [0.1, 0, 0, 0, 0, 0]\n",
    "\n",
    "# Creating a pie chart\n",
    "plt.pie(popularity, explode=y, labels=languages, startangle=135, shadow=True,  \n",
    "        wedgeprops = {\"edgecolor\" : \"black\",'linewidth': 1.25},\n",
    "        autopct='%1.1f%%')\n",
    "\n",
    "# Setting the title for the pie chart\n",
    "plt.title('Popularity of Programming Languages \\n')\n",
    "\n",
    "# axis() function is used to adjust the axis and making the chart circular using the arugument equal\n",
    "plt.axis('equal')\n",
    "\n",
    "# Displaying the chart\n",
    "plt.show()"
   ]
  },
  {
   "cell_type": "code",
   "execution_count": null,
   "id": "c4e10ba9",
   "metadata": {},
   "outputs": [],
   "source": []
  }
 ],
 "metadata": {
  "kernelspec": {
   "display_name": "Python 3 (ipykernel)",
   "language": "python",
   "name": "python3"
  },
  "language_info": {
   "codemirror_mode": {
    "name": "ipython",
    "version": 3
   },
   "file_extension": ".py",
   "mimetype": "text/x-python",
   "name": "python",
   "nbconvert_exporter": "python",
   "pygments_lexer": "ipython3",
   "version": "3.11.4"
  },
  "toc": {
   "base_numbering": 1,
   "nav_menu": {},
   "number_sections": true,
   "sideBar": true,
   "skip_h1_title": false,
   "title_cell": "Table of Contents",
   "title_sidebar": "Contents",
   "toc_cell": false,
   "toc_position": {},
   "toc_section_display": true,
   "toc_window_display": false
  }
 },
 "nbformat": 4,
 "nbformat_minor": 5
}
